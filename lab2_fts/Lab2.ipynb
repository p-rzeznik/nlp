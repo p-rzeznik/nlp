{
 "cells": [
  {
   "cell_type": "markdown",
   "source": [
    "### Imports"
   ],
   "metadata": {
    "collapsed": false
   },
   "id": "f543ac6cc1999978"
  },
  {
   "cell_type": "code",
   "execution_count": 171,
   "outputs": [],
   "source": [
    "import itertools\n",
    "from tqdm.notebook import tqdm\n",
    "import json\n",
    "from datasets import load_dataset\n",
    "from elasticsearch import Elasticsearch\n"
   ],
   "metadata": {
    "collapsed": false,
    "ExecuteTime": {
     "end_time": "2023-10-13T20:39:27.801827700Z",
     "start_time": "2023-10-13T20:39:27.786710Z"
    }
   },
   "id": "643d5ead5a1a7671"
  },
  {
   "cell_type": "markdown",
   "source": [
    "### Load dataset"
   ],
   "metadata": {
    "collapsed": false
   },
   "id": "752a009e4ad7d260"
  },
  {
   "cell_type": "code",
   "execution_count": 172,
   "outputs": [],
   "source": [
    "dataset = load_dataset(\"clarin-knext/fiqa-pl\", 'corpus')\n",
    "pd_dataset = dataset['corpus'].to_pandas()"
   ],
   "metadata": {
    "collapsed": false,
    "ExecuteTime": {
     "end_time": "2023-10-13T20:39:31.070839200Z",
     "start_time": "2023-10-13T20:39:28.708640700Z"
    }
   },
   "id": "5408c115bbebe4e0"
  },
  {
   "cell_type": "markdown",
   "source": [
    "### Configure ElasticSearch"
   ],
   "metadata": {
    "collapsed": false
   },
   "id": "32bb34b8ea87a69f"
  },
  {
   "cell_type": "code",
   "execution_count": 173,
   "outputs": [
    {
     "data": {
      "text/plain": "ObjectApiResponse({'name': '8aa7680e5b7b', 'cluster_name': 'docker-cluster', 'cluster_uuid': 'GUnOVmh2TI6YXU9DaPLQ4g', 'version': {'number': '8.8.2', 'build_flavor': 'default', 'build_type': 'docker', 'build_hash': '98e1271edf932a480e4262a471281f1ee295ce6b', 'build_date': '2023-06-26T05:16:16.196344851Z', 'build_snapshot': False, 'lucene_version': '9.6.0', 'minimum_wire_compatibility_version': '7.17.0', 'minimum_index_compatibility_version': '7.0.0'}, 'tagline': 'You Know, for Search'})"
     },
     "execution_count": 173,
     "metadata": {},
     "output_type": "execute_result"
    }
   ],
   "source": [
    "\n",
    "\n",
    "ELASTIC_PASSWORD = 'tZSE8E-JJ+*FT07ID30Q'\n",
    "client = Elasticsearch(\n",
    "    \"https://localhost:9200\",\n",
    "    ca_certs=\"../../http_ca.crt\",\n",
    "    basic_auth=(\"elastic\", ELASTIC_PASSWORD)\n",
    ")\n",
    "\n",
    "client.info()\n"
   ],
   "metadata": {
    "collapsed": false,
    "ExecuteTime": {
     "end_time": "2023-10-13T20:39:31.709551700Z",
     "start_time": "2023-10-13T20:39:31.506479300Z"
    }
   },
   "id": "3c486901a93f15f7"
  },
  {
   "cell_type": "markdown",
   "source": [
    "### Define two ES analyzers for Polish according to requirements.\n",
    "### Define an ES index for storing the contents of the corpus from lab 1 using both analyzers. \n",
    "\n",
    "Analyzers and other settings are defined in `settings.json` file. \n",
    "Synonyms used in analyser are defined in `synonyms.txt` file \n"
   ],
   "metadata": {
    "collapsed": false
   },
   "id": "948088b0d9d7291d"
  },
  {
   "cell_type": "code",
   "execution_count": 175,
   "outputs": [],
   "source": [
    "! docker cp ./synonyms.txt es01:/usr/share/elasticsearch/config "
   ],
   "metadata": {
    "collapsed": false,
    "ExecuteTime": {
     "end_time": "2023-10-13T20:43:30.008115800Z",
     "start_time": "2023-10-13T20:43:29.735624800Z"
    }
   },
   "id": "f8857e4a16468b5b"
  },
  {
   "cell_type": "code",
   "execution_count": 176,
   "outputs": [
    {
     "data": {
      "text/plain": "ObjectApiResponse({'acknowledged': True, 'shards_acknowledged': True, 'index': 'months_index'})"
     },
     "execution_count": 176,
     "metadata": {},
     "output_type": "execute_result"
    }
   ],
   "source": [
    "INDEX_NAME = \"months_index\"\n",
    "settings = json.load(open('./settings.json', 'r'))\n",
    "client.indices.delete(index=INDEX_NAME)\n",
    "client.indices.create(index=INDEX_NAME, settings=settings)"
   ],
   "metadata": {
    "collapsed": false,
    "ExecuteTime": {
     "end_time": "2023-10-13T20:43:32.939440600Z",
     "start_time": "2023-10-13T20:43:32.505905700Z"
    }
   },
   "id": "4200e3d26583aa9a"
  },
  {
   "cell_type": "markdown",
   "source": [
    "### Load the data to the ES index."
   ],
   "metadata": {
    "collapsed": false
   },
   "id": "84172d83ff6d9e31"
  },
  {
   "cell_type": "code",
   "execution_count": 177,
   "outputs": [
    {
     "data": {
      "text/plain": "  0%|          | 0/577 [00:00<?, ?it/s]",
      "application/vnd.jupyter.widget-view+json": {
       "version_major": 2,
       "version_minor": 0,
       "model_id": "d33ca2c4d3144b2ab3279aa1c6b4bbbd"
      }
     },
     "metadata": {},
     "output_type": "display_data"
    }
   ],
   "source": [
    "body = list(itertools.chain(*pd_dataset.apply(lambda x: ({'index': {'_id': x._id}}, {'title': x.title, 'text': x.text}) , axis=1)))\n",
    "chunk_size = 200\n",
    "for chunk in tqdm([body[i:i + chunk_size] for i in range(0, len(body), chunk_size)]):\n",
    "    client.bulk(\n",
    "        index=INDEX_NAME,\n",
    "        body=chunk\n",
    "    )"
   ],
   "metadata": {
    "collapsed": false,
    "ExecuteTime": {
     "end_time": "2023-10-13T20:43:52.297900700Z",
     "start_time": "2023-10-13T20:43:32.945451Z"
    }
   },
   "id": "fce1c910bf4b7342"
  },
  {
   "cell_type": "markdown",
   "source": [
    "### Determine the number of documents containing the word styczeń (in any form) including and excluding the synonyms."
   ],
   "metadata": {
    "collapsed": false
   },
   "id": "70e894a332fbd591"
  },
  {
   "cell_type": "code",
   "execution_count": 189,
   "outputs": [],
   "source": [
    "c1 = client.count(index=INDEX_NAME,  analyzer='analyzer_with_synonym', q='text:styczeń')['count']\n",
    "c2 = client.count(index=INDEX_NAME,  analyzer='analyzer_without_synonym', q='text:styczeń')['count']"
   ],
   "metadata": {
    "collapsed": false,
    "ExecuteTime": {
     "end_time": "2023-10-13T20:50:04.864003600Z",
     "start_time": "2023-10-13T20:50:04.824546400Z"
    }
   },
   "id": "2a2f4014623c1e24"
  },
  {
   "cell_type": "code",
   "execution_count": 190,
   "outputs": [
    {
     "name": "stdout",
     "output_type": "stream",
     "text": [
      "\n",
      "    Styczeń matches with synonyms:       44123\n",
      "    Styczeń matches withotu synonyms:    29\n"
     ]
    }
   ],
   "source": [
    "print(f\"\"\"\n",
    "    Styczeń matches with synonyms:       {c1}\n",
    "    Styczeń matches withotu synonyms:    {c2}\"\"\")"
   ],
   "metadata": {
    "collapsed": false,
    "ExecuteTime": {
     "end_time": "2023-10-13T20:50:05.094615700Z",
     "start_time": "2023-10-13T20:50:05.074205700Z"
    }
   },
   "id": "709ed2c232301426"
  },
  {
   "cell_type": "markdown",
   "source": [
    "Synonyms for Styczeń contains also \"I\" which is \"and\" word in Polish, so count of matches with synonyms is inadequate."
   ],
   "metadata": {
    "collapsed": false
   },
   "id": "b6206e1f86c51a8d"
  },
  {
   "cell_type": "code",
   "execution_count": 191,
   "outputs": [],
   "source": [
    "c1 = client.count(index=INDEX_NAME,  analyzer='analyzer_with_synonym', q='text:sierpień')['count']\n",
    "c2 = client.count(index=INDEX_NAME,  analyzer='analyzer_without_synonym', q='text:sierpień')['count']"
   ],
   "metadata": {
    "collapsed": false,
    "ExecuteTime": {
     "end_time": "2023-10-13T20:50:06.744143200Z",
     "start_time": "2023-10-13T20:50:06.714390100Z"
    }
   },
   "id": "bd04fd2ba86b02b6"
  },
  {
   "cell_type": "code",
   "execution_count": 192,
   "outputs": [
    {
     "name": "stdout",
     "output_type": "stream",
     "text": [
      "\n",
      "    Sierpień matches with synonyms:       50\n",
      "    Sierpień matches withotu synonyms:    22\n"
     ]
    }
   ],
   "source": [
    "print(f\"\"\"\n",
    "    Sierpień matches with synonyms:       {c1}\n",
    "    Sierpień matches withotu synonyms:    {c2}\"\"\")"
   ],
   "metadata": {
    "collapsed": false,
    "ExecuteTime": {
     "end_time": "2023-10-13T20:50:07.214445200Z",
     "start_time": "2023-10-13T20:50:07.211424800Z"
    }
   },
   "id": "ec22bd4a9cb9bbf2"
  },
  {
   "cell_type": "markdown",
   "source": [
    "Number of Sierpień occurences are more accurate and realistic.  "
   ],
   "metadata": {
    "collapsed": false
   },
   "id": "86e7300d8534bfcb"
  },
  {
   "cell_type": "markdown",
   "source": [
    "### Download the QA pairs for the FIQA dataset. (what should be done here?, how to get started with that ds?)\n"
   ],
   "metadata": {
    "collapsed": false
   },
   "id": "b0249b8d3cb0cb6e"
  },
  {
   "cell_type": "code",
   "execution_count": 209,
   "outputs": [],
   "source": [
    "QA_dataset = load_dataset(\"clarin-knext/fiqa-pl-qrels\", 'corpus')\n"
   ],
   "metadata": {
    "collapsed": false,
    "ExecuteTime": {
     "end_time": "2023-10-13T21:10:19.066674100Z",
     "start_time": "2023-10-13T21:10:15.800200100Z"
    }
   },
   "id": "f7b2bd044a9b3f4f"
  },
  {
   "cell_type": "code",
   "execution_count": 210,
   "outputs": [
    {
     "data": {
      "text/plain": "Dataset({\n    features: ['query-id', 'corpus-id', 'score'],\n    num_rows: 14166\n})"
     },
     "execution_count": 210,
     "metadata": {},
     "output_type": "execute_result"
    }
   ],
   "source": [
    "QA_dataset['train']"
   ],
   "metadata": {
    "collapsed": false,
    "ExecuteTime": {
     "end_time": "2023-10-13T21:10:19.790118500Z",
     "start_time": "2023-10-13T21:10:19.769804Z"
    }
   },
   "id": "e2723c1e1fc04a73"
  },
  {
   "cell_type": "markdown",
   "source": [
    "1. What are the strengths and weaknesses of regular expressions versus full text search regarding processing of text?\n",
    "Regular expressions are simpler, easier to configure and for easy patterns are fast, but it is hard to create expression that covers every form. ElasticSearch needs to be configured, indexes need to be defined and data is required to be stored in ES, but it supports tokenization, lematization, and has many build-in filters. Searching and counting is very fast thanks to database system and indexes. \n",
    "2. Is full text search applicable to the question answering problem? Show at least 3 examples from the corpus to support your claim."
   ],
   "metadata": {
    "collapsed": false
   },
   "id": "7919a0a86dbff337"
  },
  {
   "cell_type": "code",
   "execution_count": null,
   "outputs": [],
   "source": [],
   "metadata": {
    "collapsed": false
   },
   "id": "5ea422b4d0c18224"
  }
 ],
 "metadata": {
  "kernelspec": {
   "display_name": "Python 3",
   "language": "python",
   "name": "python3"
  },
  "language_info": {
   "codemirror_mode": {
    "name": "ipython",
    "version": 2
   },
   "file_extension": ".py",
   "mimetype": "text/x-python",
   "name": "python",
   "nbconvert_exporter": "python",
   "pygments_lexer": "ipython2",
   "version": "2.7.6"
  }
 },
 "nbformat": 4,
 "nbformat_minor": 5
}
