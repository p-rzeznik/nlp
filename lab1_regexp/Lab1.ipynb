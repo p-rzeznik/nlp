{
 "cells": [
  {
   "cell_type": "markdown",
   "source": [
    "### Imports"
   ],
   "metadata": {
    "collapsed": false
   },
   "id": "3971a5bfe040b5af"
  },
  {
   "cell_type": "code",
   "execution_count": 1,
   "id": "initial_id",
   "metadata": {
    "collapsed": true,
    "ExecuteTime": {
     "end_time": "2023-10-06T20:53:01.476879800Z",
     "start_time": "2023-10-06T20:52:59.287393900Z"
    }
   },
   "outputs": [],
   "source": [
    "import re\n",
    "import pandas as pd\n",
    "import matplotlib.pyplot as plt\n",
    "from collections import defaultdict\n",
    "from datasets import load_dataset"
   ]
  },
  {
   "cell_type": "markdown",
   "source": [
    "### Load dataset"
   ],
   "metadata": {
    "collapsed": false
   },
   "id": "55bc03f22ac8e859"
  },
  {
   "cell_type": "code",
   "execution_count": 2,
   "outputs": [],
   "source": [
    "dataset = load_dataset(\"clarin-knext/fiqa-pl\", 'corpus')\n",
    "text_series = dataset['corpus'].to_pandas()['text']"
   ],
   "metadata": {
    "collapsed": false,
    "ExecuteTime": {
     "end_time": "2023-10-06T20:53:03.929500400Z",
     "start_time": "2023-10-06T20:53:01.476879800Z"
    }
   },
   "id": "acec05fabffa167b"
  },
  {
   "cell_type": "markdown",
   "source": [
    "### 1. Devise two regular expressions:\n",
    "- extracting times, e.g. recognizing 20:30 as an instance of a time.\n",
    "- extracting dates, e.g. recognizing 20 września as an instance of date."
   ],
   "metadata": {
    "collapsed": false
   },
   "id": "5b94d229c2abe19f"
  },
  {
   "cell_type": "code",
   "execution_count": 3,
   "outputs": [],
   "source": [
    "time_pattern = '((([0-1]?[0-9])|(2[0-3])):[0-5][0-9])'\n",
    "date_pattern = '((0?[1-9]|[1-2][0-9]|3[0-1]) ((stycz|kwieci|sierpi|wrzesi|grudzi)eń|(marz|lipi|czerwi)ec|listopad|październik|luty|maj))'"
   ],
   "metadata": {
    "collapsed": false,
    "ExecuteTime": {
     "end_time": "2023-10-06T20:53:03.945239800Z",
     "start_time": "2023-10-06T20:53:03.934535100Z"
    }
   },
   "id": "381935da1bcec255"
  },
  {
   "cell_type": "markdown",
   "source": [
    "### 2. Search for occurrences of times and dates in the dataset.\n"
   ],
   "metadata": {
    "collapsed": false
   },
   "id": "a20227a344d160a6"
  },
  {
   "cell_type": "code",
   "execution_count": 4,
   "outputs": [
    {
     "data": {
      "text/plain": "49       [(17:57, 17, 17, ), (17:57, 17, 17, )]\n137                            [(6:17, 6, 6, )]\n165      [(20:00, 20, , 20), (17:00, 17, 17, )]\n191                         [(22:00, 22, , 22)]\n264                         [(12:00, 12, 12, )]\n                          ...                  \n55860    [(15:04, 15, 15, ), (15:04, 15, 15, )]\n55867    [(16:00, 16, 16, ), (16:00, 16, 16, )]\n56143                       [(10:17, 10, 10, )]\n56348                          [(5:53, 5, 5, )]\n56444                       [(06:18, 06, 06, )]\nName: text, Length: 306, dtype: object"
     },
     "execution_count": 4,
     "metadata": {},
     "output_type": "execute_result"
    }
   ],
   "source": [
    "time_matches: pd.Series = text_series.apply(lambda x: re.findall(time_pattern, x))\n",
    "filtered_time_matches = time_matches[time_matches.apply(lambda x: len(x)>0)]\n",
    "filtered_time_matches"
   ],
   "metadata": {
    "collapsed": false,
    "ExecuteTime": {
     "end_time": "2023-10-06T20:53:07.063050900Z",
     "start_time": "2023-10-06T20:53:03.945239800Z"
    }
   },
   "id": "f265e5c1ca005713"
  },
  {
   "cell_type": "code",
   "execution_count": 5,
   "outputs": [
    {
     "data": {
      "text/plain": "178      [(4 maj, 4, maj, , ), (17 październik, 17, paź...\n569                                  [(6 maj, 6, maj, , )]\n742      [(2 listopad, 2, listopad, , ), (21 listopad, ...\n802                [(29 październik, 29, październik, , )]\n858      [(14 październik, 14, październik, , ), (20 pa...\n                               ...                        \n56892              [(20 październik, 20, październik, , )]\n56905                [(1 październik, 1, październik, , )]\n56935              [(16 październik, 16, październik, , )]\n57167                [(2 październik, 2, październik, , )]\n57570                [(3 październik, 3, październik, , )]\nName: text, Length: 162, dtype: object"
     },
     "execution_count": 5,
     "metadata": {},
     "output_type": "execute_result"
    }
   ],
   "source": [
    "date_matches: pd.Series = text_series.apply(lambda x: re.findall(date_pattern, x, re.IGNORECASE))\n",
    "filtered_date_matches = date_matches[date_matches.apply(lambda x: len(x)>0)]\n",
    "filtered_date_matches"
   ],
   "metadata": {
    "collapsed": false,
    "ExecuteTime": {
     "end_time": "2023-10-06T20:53:09.560542800Z",
     "start_time": "2023-10-06T20:53:07.070762300Z"
    }
   },
   "id": "8e40a5fcbeaa3d27"
  },
  {
   "cell_type": "markdown",
   "source": [
    "### 3. Plot results from point 2:\n",
    "- for times create a bar plot for full hours.\n",
    "- for dates create a bar plot for months."
   ],
   "metadata": {
    "collapsed": false
   },
   "id": "c51e039c7e4f540e"
  },
  {
   "cell_type": "code",
   "execution_count": 6,
   "outputs": [],
   "source": [
    "full_hours_dict = defaultdict(lambda: 0)\n",
    "for match_list in filtered_time_matches:\n",
    "    for el in match_list:\n",
    "        full_hours_dict[int(el[0].split(':')[0])] += 1"
   ],
   "metadata": {
    "collapsed": false,
    "ExecuteTime": {
     "end_time": "2023-10-06T20:53:09.590583400Z",
     "start_time": "2023-10-06T20:53:09.562959800Z"
    }
   },
   "id": "5c9852bd38e0be8d"
  },
  {
   "cell_type": "code",
   "execution_count": 7,
   "outputs": [
    {
     "data": {
      "text/plain": "<Figure size 640x480 with 1 Axes>",
      "image/png": "[encoded data removed]"
     },
     "metadata": {},
     "output_type": "display_data"
    }
   ],
   "source": [
    "plt.title('Full hours')\n",
    "plt.boxplot(full_hours_dict.values());"
   ],
   "metadata": {
    "collapsed": false,
    "ExecuteTime": {
     "end_time": "2023-10-06T20:53:09.715613900Z",
     "start_time": "2023-10-06T20:53:09.576270600Z"
    }
   },
   "id": "1630290e9a60bd81"
  },
  {
   "cell_type": "code",
   "execution_count": 8,
   "outputs": [],
   "source": [
    "months_dict = defaultdict(lambda: 0)\n",
    "for match_list in filtered_date_matches:\n",
    "    for el in match_list:\n",
    "        months_dict[el[0].split()[1][:3].lower()] += 1\n"
   ],
   "metadata": {
    "collapsed": false,
    "ExecuteTime": {
     "end_time": "2023-10-06T20:53:09.731264600Z",
     "start_time": "2023-10-06T20:53:09.715613900Z"
    }
   },
   "id": "fb40b8d89d57d353"
  },
  {
   "cell_type": "code",
   "execution_count": 9,
   "outputs": [
    {
     "data": {
      "text/plain": "<Figure size 640x480 with 1 Axes>",
      "image/png": "[encoded data removed]"
     },
     "metadata": {},
     "output_type": "display_data"
    }
   ],
   "source": [
    "plt.title('Months')\n",
    "plt.boxplot(months_dict.values());"
   ],
   "metadata": {
    "collapsed": false,
    "ExecuteTime": {
     "end_time": "2023-10-06T20:53:09.871870600Z",
     "start_time": "2023-10-06T20:53:09.762521400Z"
    }
   },
   "id": "be148536f381abcd"
  },
  {
   "cell_type": "markdown",
   "source": [],
   "metadata": {
    "collapsed": false
   },
   "id": "5570d08c9705b673"
  },
  {
   "cell_type": "markdown",
   "source": [
    "### 4. Compute the number of occurrences of styczeń word in any inflectional form. Use a compact form for the query (i.e. joining all forms of the word by alternative is forbidden).\n",
    "### 5. As in 4, but preceded by a number and a space.\n",
    "### 6. As in 4, but not preceded by a number and a space. Check if the results from 5 and 6 sum to 4."
   ],
   "metadata": {
    "collapsed": false
   },
   "id": "e54fe88993793a1b"
  },
  {
   "cell_type": "code",
   "execution_count": 10,
   "outputs": [],
   "source": [
    "import regex\n",
    "def get_texts_matches_count(texts, pattern):\n",
    "    matches: pd.Series = texts.apply(lambda x: regex.findall(pattern, x, re.IGNORECASE))\n",
    "    filtered_matches = matches[matches.apply(lambda x: len(x)>0)]\n",
    "    count = 0\n",
    "    for match_list in filtered_matches:\n",
    "        for _ in match_list:\n",
    "            count += 1\n",
    "    return count"
   ],
   "metadata": {
    "collapsed": false,
    "ExecuteTime": {
     "end_time": "2023-10-06T20:53:09.934374800Z",
     "start_time": "2023-10-06T20:53:09.871870600Z"
    }
   },
   "id": "7c2ad7bea9b8882f"
  },
  {
   "cell_type": "code",
   "execution_count": 11,
   "outputs": [],
   "source": [
    "january_pattern = '(stycz(eń|nia|niem|niowi|niu|ni|ach|ami|nie|niom|niów))'\n",
    "january_with_number_pattern = '(((0?[1-9]|[1-2][0-9]|3[0-1]) )stycz(eń|nia|niem|niowi|niu|ni|ach|ami|nie|niom|niów))'\n",
    "january_without_number_pattern =  '((?<!((0?[1-9]|[1-2][0-9]|3[0-1]) ))stycz(eń|nia|niem|niowi|niu|ni|ach|ami|nie|niom|niów))'"
   ],
   "metadata": {
    "collapsed": false,
    "ExecuteTime": {
     "end_time": "2023-10-06T20:53:09.934374800Z",
     "start_time": "2023-10-06T20:53:09.903166Z"
    }
   },
   "id": "31af5f7671ff2a76"
  },
  {
   "cell_type": "code",
   "execution_count": 12,
   "outputs": [],
   "source": [
    "c1, c2, c3 = get_texts_matches_count(text_series, january_pattern), get_texts_matches_count(text_series, january_with_number_pattern), get_texts_matches_count(text_series, january_without_number_pattern)"
   ],
   "metadata": {
    "collapsed": false,
    "ExecuteTime": {
     "end_time": "2023-10-06T20:53:15.147007200Z",
     "start_time": "2023-10-06T20:53:09.918756700Z"
    }
   },
   "id": "1f3f23e54a131fa9"
  },
  {
   "cell_type": "code",
   "execution_count": 13,
   "outputs": [
    {
     "name": "stdout",
     "output_type": "stream",
     "text": [
      "\n",
      "    All january matches:             955\n",
      "    January with number matches:     215\n",
      "    January without number matches:  740\n",
      "    Sum:    215 + 740 = 955     -    True\n"
     ]
    }
   ],
   "source": [
    "print(f\"\"\"\n",
    "    All january matches:             {c1}\n",
    "    January with number matches:     {c2}\n",
    "    January without number matches:  {c3}\n",
    "    Sum:    {c2} + {c3} = {c1}     -    {c1==c2+c3}\"\"\")"
   ],
   "metadata": {
    "collapsed": false,
    "ExecuteTime": {
     "end_time": "2023-10-06T20:53:15.163088900Z",
     "start_time": "2023-10-06T20:53:15.147007200Z"
    }
   },
   "id": "114634d54241ffd5"
  },
  {
   "cell_type": "markdown",
   "source": [
    "Answer the following questions (2 points):\n",
    "\n",
    "1. Are regular expressions good at capturing times?\n",
    "```\n",
    "Creating regular expression for capturing times is simple and fast. There are not many edge cases so regex are good at capturing times.   \n",
    "```\n",
    "2. Are regular expressions good at capturing dates?\n",
    "```\n",
    "Dates can have many formats including that ones with month expressed in words. Month names differs between languages and in many languages month names can have multiple forms. It makes dates very difficult to capture correctly using regular expressions.\n",
    "```\n",
    "3. How one can be sure that the expression has matched all and only the correct expressions of a given type?\n",
    "```\n",
    "Regular expressions should be checked e.g by writing tests that includes potentially difficult texts where the mistake could happen. Tests should cover all edge cases.\n",
    "```"
   ],
   "metadata": {
    "collapsed": false
   },
   "id": "d9d2b06d2488eef1"
  },
  {
   "cell_type": "code",
   "execution_count": 13,
   "outputs": [],
   "source": [],
   "metadata": {
    "collapsed": false,
    "ExecuteTime": {
     "end_time": "2023-10-06T20:53:15.210078600Z",
     "start_time": "2023-10-06T20:53:15.163088900Z"
    }
   },
   "id": "c70e28e30d177476"
  }
 ],
 "metadata": {
  "kernelspec": {
   "display_name": "Python 3",
   "language": "python",
   "name": "python3"
  },
  "language_info": {
   "codemirror_mode": {
    "name": "ipython",
    "version": 2
   },
   "file_extension": ".py",
   "mimetype": "text/x-python",
   "name": "python",
   "nbconvert_exporter": "python",
   "pygments_lexer": "ipython2",
   "version": "2.7.6"
  }
 },
 "nbformat": 4,
 "nbformat_minor": 5
}
