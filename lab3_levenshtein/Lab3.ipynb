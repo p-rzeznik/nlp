{
 "cells": [
  {
   "cell_type": "markdown",
   "source": [
    "### Imports"
   ],
   "metadata": {
    "collapsed": false
   },
   "id": "f543ac6cc1999978"
  },
  {
   "cell_type": "code",
   "execution_count": 3,
   "outputs": [],
   "source": [
    "import itertools\n",
    "from tqdm.notebook import tqdm\n",
    "import json\n",
    "from datasets import load_dataset\n",
    "from elasticsearch import Elasticsearch\n"
   ],
   "metadata": {
    "collapsed": false,
    "ExecuteTime": {
     "end_time": "2023-10-20T16:49:17.136103200Z",
     "start_time": "2023-10-20T16:49:14.900945600Z"
    }
   },
   "id": "643d5ead5a1a7671"
  },
  {
   "cell_type": "markdown",
   "source": [
    "### Load dataset"
   ],
   "metadata": {
    "collapsed": false
   },
   "id": "752a009e4ad7d260"
  },
  {
   "cell_type": "code",
   "execution_count": 4,
   "outputs": [],
   "source": [
    "dataset = load_dataset(\"clarin-knext/fiqa-pl\", 'corpus')\n",
    "pd_dataset = dataset['corpus'].to_pandas()"
   ],
   "metadata": {
    "collapsed": false,
    "ExecuteTime": {
     "end_time": "2023-10-20T16:49:19.205468600Z",
     "start_time": "2023-10-20T16:49:17.136103200Z"
    }
   },
   "id": "5408c115bbebe4e0"
  },
  {
   "cell_type": "code",
   "execution_count": 5,
   "outputs": [],
   "source": [
    "from spacy.lang.pl import Polish\n",
    "nlp = Polish()\n",
    "tokenizer = nlp.tokenizer"
   ],
   "metadata": {
    "collapsed": false,
    "ExecuteTime": {
     "end_time": "2023-10-20T16:49:19.237296800Z",
     "start_time": "2023-10-20T16:49:19.221563500Z"
    }
   },
   "id": "c78e0b5dcb957796"
  },
  {
   "cell_type": "code",
   "execution_count": 10,
   "outputs": [
    {
     "data": {
      "text/plain": "'Nie mówię, że nie podoba mi się też pomysł szkolenia w miejscu pracy, ale nie możesz oczekiwać, że firma to zrobi. Szkolenie pracowników to nie ich praca – oni tworzą oprogramowanie. Być może systemy edukacyjne w Stanach Zjednoczonych (lub ich studenci) powinny trochę martwić się o zdobycie umiejętności rynkowych w zamian za ich ogromne inwestycje w edukację, zamiast wychodzić z tysiącami zadłużonych studentów i narzekać, że nie są do niczego wykwalifikowani.'"
     },
     "execution_count": 10,
     "metadata": {},
     "output_type": "execute_result"
    }
   ],
   "source": [
    "pd_dataset.iloc[0]['text']"
   ],
   "metadata": {
    "collapsed": false,
    "ExecuteTime": {
     "end_time": "2023-10-20T16:49:51.208075500Z",
     "start_time": "2023-10-20T16:49:51.192438500Z"
    }
   },
   "id": "9f1e100c78e63538"
  },
  {
   "cell_type": "code",
   "execution_count": 19,
   "outputs": [
    {
     "ename": "TypeError",
     "evalue": "Cannot index by location index with a non-integer key",
     "output_type": "error",
     "traceback": [
      "\u001B[1;31m---------------------------------------------------------------------------\u001B[0m",
      "\u001B[1;31mTypeError\u001B[0m                                 Traceback (most recent call last)",
      "Cell \u001B[1;32mIn[19], line 1\u001B[0m\n\u001B[1;32m----> 1\u001B[0m tokens \u001B[38;5;241m=\u001B[39m tokenizer(\u001B[43mpd_dataset\u001B[49m\u001B[38;5;241;43m.\u001B[39;49m\u001B[43miloc\u001B[49m\u001B[43m[\u001B[49m\u001B[38;5;124;43m'\u001B[39;49m\u001B[38;5;124;43mtext\u001B[39;49m\u001B[38;5;124;43m'\u001B[39;49m\u001B[43m]\u001B[49m)\n",
      "File \u001B[1;32m~\\NLP\\lib\\site-packages\\pandas\\core\\indexing.py:1153\u001B[0m, in \u001B[0;36m_LocationIndexer.__getitem__\u001B[1;34m(self, key)\u001B[0m\n\u001B[0;32m   1150\u001B[0m axis \u001B[38;5;241m=\u001B[39m \u001B[38;5;28mself\u001B[39m\u001B[38;5;241m.\u001B[39maxis \u001B[38;5;129;01mor\u001B[39;00m \u001B[38;5;241m0\u001B[39m\n\u001B[0;32m   1152\u001B[0m maybe_callable \u001B[38;5;241m=\u001B[39m com\u001B[38;5;241m.\u001B[39mapply_if_callable(key, \u001B[38;5;28mself\u001B[39m\u001B[38;5;241m.\u001B[39mobj)\n\u001B[1;32m-> 1153\u001B[0m \u001B[38;5;28;01mreturn\u001B[39;00m \u001B[38;5;28;43mself\u001B[39;49m\u001B[38;5;241;43m.\u001B[39;49m\u001B[43m_getitem_axis\u001B[49m\u001B[43m(\u001B[49m\u001B[43mmaybe_callable\u001B[49m\u001B[43m,\u001B[49m\u001B[43m \u001B[49m\u001B[43maxis\u001B[49m\u001B[38;5;241;43m=\u001B[39;49m\u001B[43maxis\u001B[49m\u001B[43m)\u001B[49m\n",
      "File \u001B[1;32m~\\NLP\\lib\\site-packages\\pandas\\core\\indexing.py:1711\u001B[0m, in \u001B[0;36m_iLocIndexer._getitem_axis\u001B[1;34m(self, key, axis)\u001B[0m\n\u001B[0;32m   1709\u001B[0m key \u001B[38;5;241m=\u001B[39m item_from_zerodim(key)\n\u001B[0;32m   1710\u001B[0m \u001B[38;5;28;01mif\u001B[39;00m \u001B[38;5;129;01mnot\u001B[39;00m is_integer(key):\n\u001B[1;32m-> 1711\u001B[0m     \u001B[38;5;28;01mraise\u001B[39;00m \u001B[38;5;167;01mTypeError\u001B[39;00m(\u001B[38;5;124m\"\u001B[39m\u001B[38;5;124mCannot index by location index with a non-integer key\u001B[39m\u001B[38;5;124m\"\u001B[39m)\n\u001B[0;32m   1713\u001B[0m \u001B[38;5;66;03m# validate the location\u001B[39;00m\n\u001B[0;32m   1714\u001B[0m \u001B[38;5;28mself\u001B[39m\u001B[38;5;241m.\u001B[39m_validate_integer(key, axis)\n",
      "\u001B[1;31mTypeError\u001B[0m: Cannot index by location index with a non-integer key"
     ]
    }
   ],
   "source": [
    "tokens = tokenizer(pd_dataset.iloc[0]['text'])"
   ],
   "metadata": {
    "collapsed": false,
    "ExecuteTime": {
     "end_time": "2023-10-20T16:54:53.232017100Z",
     "start_time": "2023-10-20T16:54:53.045277900Z"
    }
   },
   "id": "e672c8066e3590a4"
  },
  {
   "cell_type": "code",
   "execution_count": 15,
   "outputs": [
    {
     "data": {
      "text/plain": "81"
     },
     "execution_count": 15,
     "metadata": {},
     "output_type": "execute_result"
    }
   ],
   "source": [
    "len(tokens)"
   ],
   "metadata": {
    "collapsed": false,
    "ExecuteTime": {
     "end_time": "2023-10-20T16:50:18.490799400Z",
     "start_time": "2023-10-20T16:50:18.456897400Z"
    }
   },
   "id": "187cbdc4848aa148"
  },
  {
   "cell_type": "code",
   "execution_count": 27,
   "outputs": [],
   "source": [
    "from collections import defaultdict\n",
    "frequency_list = defaultdict(lambda: 0)\n",
    "texts = pd_dataset['text'].apply(lambda s: s.lower())\n",
    "for doc in tokenizer.pipe(texts, batch_size=50):\n",
    "    for token in doc:\n",
    "        frequency_list[token.text] += 1"
   ],
   "metadata": {
    "collapsed": false,
    "ExecuteTime": {
     "end_time": "2023-10-20T17:00:03.696554500Z",
     "start_time": "2023-10-20T16:59:36.584611900Z"
    }
   },
   "id": "277bbfd554405674"
  },
  {
   "cell_type": "code",
   "execution_count": 28,
   "outputs": [
    {
     "data": {
      "text/plain": "defaultdict(<function __main__.<lambda>()>,\n            {'nie': 131355,\n             'mówię': 977,\n             ',': 611388,\n             'że': 90021,\n             'podoba': 499,\n             'mi': 5497,\n             'się': 85835,\n             'też': 3989,\n             'pomysł': 1402,\n             'szkolenia': 136,\n             'w': 175120,\n             'miejscu': 1159,\n             'pracy': 7281,\n             'ale': 41228,\n             'możesz': 23208,\n             'oczekiwać': 396,\n             'firma': 6276,\n             'to': 116324,\n             'zrobi': 428,\n             '.': 399567,\n             'szkolenie': 108,\n             'pracowników': 2207,\n             'ich': 14567,\n             'praca': 1329,\n             '–': 8761,\n             'oni': 1242,\n             'tworzą': 221,\n             'oprogramowanie': 459,\n             'być': 19261,\n             'może': 26331,\n             'systemy': 315,\n             'edukacyjne': 59,\n             'stanach': 1200,\n             'zjednoczonych': 1501,\n             '(': 48032,\n             'lub': 33215,\n             'studenci': 114,\n             ')': 56954,\n             'powinny': 1165,\n             'trochę': 3806,\n             'martwić': 484,\n             'o': 38193,\n             'zdobycie': 180,\n             'umiejętności': 1022,\n             'rynkowych': 341,\n             'zamian': 467,\n             'za': 32311,\n             'ogromne': 630,\n             'inwestycje': 1608,\n             'edukację': 287,\n             'zamiast': 3487,\n             'wychodzić': 45,\n             'z': 96918,\n             'tysiącami': 29,\n             'zadłużonych': 14,\n             'studentów': 209,\n             'i': 126807,\n             'narzekać': 85,\n             'są': 35417,\n             'do': 66595,\n             'niczego': 757,\n             'wykwalifikowani': 64,\n             'tak': 25583,\n             'więc': 17076,\n             'nic': 3861,\n             'zapobiega': 44,\n             'fałszywym': 33,\n             'ocenom': 4,\n             'poza': 3351,\n             'dodatkową': 311,\n             'kontrolą': 146,\n             'ze': 8615,\n             'strony': 2707,\n             'rynku': 5757,\n             '/': 28181,\n             'inwestorów': 1320,\n             'istnieją': 2337,\n             'pewne': 1103,\n             'nowsze': 53,\n             'kontrole': 79,\n             'które': 23983,\n             'uniemożliwiają': 42,\n             'instytucjom': 22,\n             'korzystanie': 442,\n             'nich': 4524,\n             'ramach': 1083,\n             'dfa': 5,\n             'banki': 2601,\n             'mogą': 11671,\n             'już': 6518,\n             'polegać': 196,\n             'wyłącznie': 685,\n             'na': 118984,\n             'ratingach': 10,\n             'kredytowych': 1111,\n             'jako': 12974,\n             'należytej': 55,\n             'staranności': 62,\n             'przy': 4946,\n             'zakupie': 416,\n             'instrumentu': 245,\n             'finansowego': 696,\n             'jest': 93226,\n             'plus': 1013,\n             'intencją': 40,\n             'jeśli': 51706,\n             'instytucje': 231,\n             'finansowe': 1038,\n             'wykonują': 159,\n             'swoją': 2619,\n             'własną': 522,\n             'pracę': 2820,\n             '*': 31495,\n             'dojdą': 14,\n             'wniosku': 466,\n             'określony': 298,\n             'cdo': 135,\n             'śmieciem': 25,\n             'czy': 20269,\n             'edycja': 585,\n             ':': 22677,\n             'wprowadzenie': 157,\n             'nigdy': 4632,\n             'korzystać': 652,\n             'fsa': 183,\n             'dla': 25446,\n             'indywidualnych': 185,\n             'składek': 747,\n             'ubezpieczenie': 2205,\n             'zdrowotne': 313,\n             'co': 29697,\n             'więcej': 13828,\n             'sponsorzy': 8,\n             'planu': 879,\n             'ograniczyć': 219,\n             'chcą': 2389,\n             'zwrócić': 521,\n             'chociaż': 3380,\n             'użyć': 1034,\n             'zdrowia': 305,\n             'wcześniej': 1781,\n             'można': 7442,\n             'było': 5262,\n             'kafeteryjnego': 5,\n             '125': 108,\n             'opłacania': 73,\n             'musiały': 176,\n             'oddzielne': 170,\n             'wybory': 244,\n             'od': 29828,\n             'jednak': 6650,\n             'zgodnie': 1824,\n             'n': 401,\n             '2013': 433,\n             '-': 36409,\n             '54': 64,\n             'nawet': 9716,\n             'skutecznie': 424,\n             'zabronione': 43,\n             'samsung': 69,\n             'stworzył': 114,\n             'lcd': 31,\n             'inne': 5292,\n             'technologie': 60,\n             'płaskiego': 5,\n             'ekranu': 78,\n             'takie': 4983,\n             'jak': 33649,\n             'oled': 4,\n             'kilka': 6221,\n             'lat': 9484,\n             'temu': 2267,\n             'każdy': 3723,\n             'płaski': 38,\n             'ekran': 73,\n             'pochodził': 29,\n             'fabryk': 47,\n             'samsunga': 30,\n             'był': 4568,\n             'wymieniany': 15,\n             'myślę': 4723,\n             '21': 270,\n             'hanns': 1,\n             'który': 12139,\n             'teraz': 8063,\n             'patrzę': 126,\n             'ma': 20278,\n             'zaledwie': 355,\n             'wydaje': 3752,\n             'dobrą': 1017,\n             'firmą': 714,\n             'oto': 1872,\n             'wymagania': 428,\n             'sec': 421,\n             'federalne': 213,\n             'przepisy': 841,\n             'dotyczące': 2011,\n             'papierów': 650,\n             'wartościowych': 705,\n             'definiują': 15,\n             'termin': 510,\n             'inwestora': 404,\n             'akredytowanego': 10,\n             'zasadzie': 1251,\n             '501': 14,\n             'regulacji': 218,\n             'd': 496,\n             'bank': 4002,\n             'ubezpieczeniowa': 246,\n             'zarejestrowana': 51,\n             'inwestycyjna': 156,\n             'zajmująca': 98,\n             'rozwojem': 70,\n             'działalności': 1014,\n             'małych': 655,\n             'firm': 3031,\n             ';': 6639,\n             'program': 745,\n             'świadczeń': 327,\n             'pracowniczych': 70,\n             'rozumieniu': 28,\n             'ustawy': 245,\n             'zabezpieczeniach': 25,\n             'emerytalnych': 487,\n             'jeżeli': 259,\n             'decyzje': 490,\n             'inwestycyjne': 981,\n             'podejmuje': 120,\n             'towarzystwo': 64,\n             'ubezpieczeniowe': 326,\n             'zarejestrowany': 123,\n             'doradca': 241,\n             'inwestycyjny': 397,\n             'suma': 321,\n             'aktywów': 2190,\n             'programu': 547,\n             'przekracza': 294,\n             '5': 4422,\n             'mln': 611,\n             'usd': 17509,\n             'organizacja': 221,\n             'charytatywna': 51,\n             'korporacja': 318,\n             'spółka': 439,\n             'partnerska': 15,\n             'majątkiem': 114,\n             'przekraczającym': 14,\n             'milionów': 997,\n             'dyrektor': 379,\n             'wykonawczy': 29,\n             'komplementariusz': 3,\n             'firmy': 10711,\n             'sprzedającej': 24,\n             'papiery': 482,\n             'wartościowe': 564,\n             'przedsiębiorstwo': 51,\n             'którym': 4899,\n             'wszyscy': 2858,\n             'właściciele': 403,\n             'akcji': 10396,\n             'akredytowanymi': 2,\n             'inwestorami': 95,\n             'osoba': 1971,\n             'fizyczna': 135,\n             'która': 7675,\n             'posiada': 617,\n             'indywidualną': 31,\n             'wartość': 5987,\n             'netto': 1779,\n             'wspólną': 56,\n             'małżonkiem': 15,\n             'tej': 6785,\n             'osoby': 2433,\n             'momencie': 2376,\n             'zakupu': 1634,\n             '1': 7227,\n             'milion': 456,\n             'wyłączeniem': 42,\n             'wartości': 5637,\n             'głównego': 201,\n             'miejsca': 1601,\n             'zamieszkania': 356,\n             'takiej': 832,\n             'dochodem': 279,\n             '200': 1106,\n             '000': 7422,\n             'każdym': 2128,\n             'dwóch': 1385,\n             'ostatnich': 1026,\n             'łączny': 53,\n             'dochód': 3821,\n             'przekraczający': 15,\n             '300': 638,\n             'tych': 7172,\n             'latach': 1390,\n             'uzasadnione': 196,\n             'oczekiwanie': 124,\n             'takiego': 1404,\n             'samego': 980,\n             'poziomu': 783,\n             'dochodów': 1908,\n             'bieżącym': 200,\n             'roku': 8022,\n             'fundusz': 2633,\n             'powierniczy': 269,\n             'aktywami': 215,\n             'przekraczającymi': 12,\n             'niezałożony': 1,\n             'celu': 3098,\n             'nabycia': 70,\n             'oferowanych': 98,\n             'którego': 3158,\n             'zakupów': 622,\n             'dokonuje': 151,\n             'wyrafinowana': 16,\n             'brak': 1283,\n             'wymagań': 181,\n             'dotyczących': 796,\n             'obywatelstwa': 71,\n             '„': 41330,\n             'dotyczy': 1500,\n             'tylko': 17255,\n             'zespołami': 16,\n             'fantasy': 15,\n             'economy': 130,\n             'poważnie': 656,\n             'fikcyjne': 7,\n             'dzieła': 29,\n             'randa': 7,\n             'przekładają': 16,\n             'dobrze': 4392,\n             'rzeczywistość': 249,\n             'ponieważ': 18944,\n             'bez': 8276,\n             'względu': 2175,\n             'bardzo': 10177,\n             'ludzie': 7750,\n             'starają': 190,\n             'tego': 21928,\n             'fikcyjnego': 9,\n             '”': 37273,\n             'elementu': 24,\n             'po': 25687,\n             'prostu': 9782,\n             'zignorować': 129,\n             'przetestuj': 12,\n             'sam': 2606,\n             'strip': 4,\n             'john': 155,\n             'galt': 5,\n             'jego': 4952,\n             'zwolennicy': 56,\n             'wszystkiego': 688,\n             'mają': 9296,\n             'zostało': 1022,\n             'stworzone': 56,\n             'przez': 17831,\n             'społeczeństwo': 359,\n             'obrębie': 26,\n             'wyrzucają': 29,\n             'pustynię': 3,\n             'umrą': 30,\n             'wystawienia': 52,\n             'głodu': 43,\n             'mniej': 5974,\n             'niż': 16827,\n             'dwa': 2359,\n             'tygodnie': 307,\n             'będą': 6131,\n             'nago': 6,\n             'narzędzi': 235,\n             'jedzenia': 284,\n             'jedynym': 1038,\n             'powodem': 1061,\n             'libertarianom': 1,\n             'uchodzi': 20,\n             'sucho': 119,\n             'wpychanie': 3,\n             'swoich': 4482,\n             'flaków': 2,\n             'racjonalnej': 6,\n             'filozofii': 41,\n             'nikt': 1787,\n             'będzie': 11694,\n             'wskazywał': 15,\n             'myśleniem': 17,\n             'dlaczego': 4531,\n             '?': 27034,\n             'cóż': 1195,\n             'większość': 5486,\n             'mojego': 1768,\n             'życia': 2022,\n             '\"': 28966,\n             'filozofia': 61,\n             'była': 2979,\n             'uważana': 116,\n             'szaloną': 25,\n             'johnem': 6,\n             'bircherem': 1,\n             'męczyć': 21,\n             'dopiero': 535,\n             'przejściu': 223,\n             'finansowanych': 25,\n             'miliarderów': 29,\n             'polityków': 110,\n             'gówniane': 152,\n             'myślenie': 196,\n             'stało': 735,\n             'akceptowalne': 44,\n             'kontrakty': 428,\n             'futures': 316,\n             'należą': 183,\n             'większej': 837,\n             'klasy': 865,\n             'finansowych': 1122,\n             'zwanych': 30,\n             'instrumentami': 78,\n             'pochodnymi': 44,\n             'instrumenty': 300,\n             'pochodne': 173,\n             'nazywane': 101,\n             'takimi': 381,\n             'wypłaty': 1617,\n             'zależą': 120,\n             'ceny': 5040,\n             'innych': 5443,\n             'rzeczywistych': 285,\n             'rodzaje': 441,\n             'instrumentów': 270,\n             'pochodnych': 186,\n             'opcje': 1739,\n             'kupna': 1124,\n             'sprzedaży': 4397,\n             'aktywa': 1489,\n             'stałym': 306,\n             'dochodzie': 169,\n             'naśladują': 9,\n             'zachowanie': 350,\n             'obligacje': 1951,\n             'opcją': 662,\n             'wykupu': 134,\n             'itp': 4986,\n             'kontrakt': 347,\n             'określa': 233,\n             'następujące': 392,\n             'elementy': 170,\n             'przypadku': 7777,\n             'każdego': 2658,\n             'innego': 2340,\n             'kontraktu': 228,\n             'zaangażowane': 98,\n             'dwie': 1199,\n             'jedna': 1292,\n             'strona': 989,\n             'zobowiązuje': 21,\n             'dostarczenia': 58,\n             'bazowych': 239,\n             'drugiej': 1447,\n             'stronie': 1794,\n             'dniu': 752,\n             'wygaśnięcia': 374,\n             'cenę': 2472,\n             'kontraktów': 380,\n             'druga': 457,\n             'zapłaty': 537,\n             'którą': 4111,\n             'którakolwiek': 39,\n             'stron': 563,\n             'płaci': 1195,\n             'góry': 864,\n             'zawarcie': 38,\n             'umowy': 1348,\n             'użyty': 33,\n             'język': 109,\n             'taki': 1772,\n             'agent': 192,\n             'zobowiązał': 9,\n             'otrzymania': 181,\n             'dostawy': 191,\n             'miał': 2824,\n             'kupić': 3438,\n             'mówi': 2249,\n             'dokonać': 713,\n             'sprzedał': 218,\n             'umowę': 645,\n             'odpowiedz': 28,\n             'swoje': 5884,\n             'pytanie': 3354,\n             'kupując': 516,\n             'czerwca': 145,\n             'cenie': 1696,\n             '100': 5254,\n             'terminem': 257,\n             'zapadalności': 347,\n             'sierpnia': 145,\n             'oznacza': 5537,\n             'zobowiązujesz': 10,\n             'zapłacić': 3139,\n             'bazowe': 121,\n             'musisz': 7081,\n             'płacić': 2441,\n             'cena': 4134,\n             'tym': 21604,\n             'przewiduje': 89,\n             'wymieniać': 93,\n             'ręce': 153,\n             'miesiącu': 589,\n             'gdy': 13526,\n             'dołączysz': 9,\n             'scentsy': 3,\n             'otrzymasz': 1222,\n             'darmowy': 95,\n             'rozbrajacz': 1,\n             'wraz': 1183,\n             'swoim': 2645,\n             'zestawem': 39,\n             '!': 6656,\n             'robiono': 5,\n             'również': 10526,\n             'testerów': 3,\n             'wiosenno': 1,\n             'letnich': 90,\n             'jesienno': 1,\n             'zimowych': 5,\n             'oraz': 2478,\n             'wszystkie': 6246,\n             'zestawu': 112,\n             'własnym': 420,\n             'szefem': 68,\n             'ty': 2723,\n             'wybierasz': 146,\n             'jakich': 207,\n             'godzinach': 195,\n             'pracujesz': 476,\n             'kiedy': 8553,\n             'gdzie': 3623,\n             'je': 6854,\n             'dołącz': 63,\n             'mojej': 1588,\n             'rodziny': 800,\n             'dziś': 642,\n             '[': 8006,\n             'amanda': 1,\n             'c': 920,\n             'robar': 1,\n             'business': 331,\n             ']': 2441,\n             'http://www.amandacrobar.scentsy.ca': 1,\n             'razem': 1509,\n             'płacisz': 2189,\n             'wypłacasz': 57,\n             'środki': 1096,\n             'swojego': 2635,\n             'konta': 4385,\n             'paypal': 596,\n             'pobiera': 451,\n             'opłatami': 273,\n             'ok': 492,\n             '3': 4364,\n             '%': 20830,\n             'aktualnej': 183,\n             'waluty': 972,\n             'np': 1921,\n             'jednostek': 215,\n             'dolarów': 7553,\n             'amerykańskich': 605,\n             'funty': 23,\n             'brytyjskie': 52,\n             'obecny': 464,\n             'kurs': 539,\n             'wymiany': 867,\n             'wynosi': 2724,\n             '$': 3703,\n             '=': 4181,\n             '0,82': 4,\n             'gbp': 716,\n             'rozważ': 493,\n             'zmniejszenie': 320,\n             'rzeczywistego': 164,\n             'kursu': 262,\n             'przybliżona': 15,\n             'wielkość': 308,\n             'wyniesie': 287,\n             '0,82*97': 1,\n             '3=97': 1,\n             '0,7954': 2,\n             'ta': 3645,\n             'formuła': 157,\n             'da': 521,\n             'dokładnej': 94,\n             'oczywiście': 3741,\n             'pomoże': 976,\n             'kapitan': 6,\n             'zapytałeś': 16,\n             'go': 7217,\n             '2010': 401,\n             'zamierza': 129,\n             'konkurować': 299,\n             'dystrybutorami': 5,\n             'wypożyczalni': 32,\n             'dvd': 87,\n             'netflix': 276,\n             'wtedy': 3279,\n             'przede': 545,\n             'wszystkim': 1219,\n             'lovefilm': 1,\n             'zdziwiłeś': 1,\n             'on': 1709,\n             'powiedział': 1427,\n             'nadal': 6483,\n             'dystrybutor': 6,\n             'wynajmu': 414,\n             'wspomniani': 6,\n             'konkurenci': 75,\n             'powiedziałbym': 631,\n             'usa': 5312,\n             'ryzyko': 3710,\n             'dokładnie': 2216,\n             'samo': 2898,\n             'twoje': 7526,\n             'kwotę': 2254,\n             'fdic': 262,\n             'obecnie': 2244,\n             '250': 483,\n             'saldo': 1425,\n             'pokryte': 75,\n             'awarii': 103,\n             'niektórych': 1771,\n             'przypadkach': 971,\n             'rezygnujesz': 52,\n             'sieci': 881,\n             'bankomatów': 118,\n             'liczby': 1937,\n             'oddziałów': 55,\n             'odwiedzić': 143,\n             'godzin': 1239,\n             'otwarcia': 216,\n             'banku': 3389,\n             'działa': 2142,\n             'internetowa': 316,\n             'funkcje': 182,\n             'mniejsze': 761,\n             'ochrona': 176,\n             'twoich': 2149,\n             'depozytów': 345,\n             'taka': 1506,\n             'sama': 931,\n             'wiem': 2677,\n             'jaka': 840,\n             'opłata': 730,\n             'właśnie': 2110,\n             'wyrobiłem': 4,\n             'przykład': 5158,\n             'wcale': 355,\n             'mnie': 4397,\n             'dziwi': 26,\n             'comcast': 141,\n             '20': 3773,\n             'przeszkadza': 103,\n             'mam': 5307,\n             'żądanie': 204,\n             'katastrofie': 24,\n             'jaką': 1377,\n             'były': 2733,\n             'cablecards': 4,\n             'szans': 214,\n             'aby': 31031,\n             'tru2way': 3,\n             'zadziałało': 122,\n             'gdyby': 3232,\n             'branża': 267,\n             'miała': 861,\n             'sprawie': 588,\n             'coś': 5426,\n             'powiedzenia': 199,\n             'wymusili': 2,\n             'awarię': 39,\n             'żaden': 768,\n             'powodów': 1226,\n             'których': 6310,\n             'im': 4082,\n             'sprzeciwiali': 6,\n             'zniknął': 39,\n             'dowolnym': 698,\n             'zliczyć': 11,\n             'użyte': 51,\n             'nav': 161,\n             'matematyka': 250,\n             'niewiele': 877,\n             'kapitalizacja': 172,\n             'rynkowa': 493,\n             'rozumiesz': 563,\n             'wynikiem': 223,\n             'zapłaci': 347,\n             'rynek': 3635,\n             'opiera': 497,\n             'dzisiejszym': 103,\n             'przyszłych': 479,\n             'oczekiwaniach': 14,\n             'a': 41224,\n             'oczekiwania': 281,\n             'same': 1227,\n             'nas': 1601,\n             'dlatego': 4123,\n             'zawsze': 4320,\n             'sprzedawcy': 692,\n             'kupujących': 327,\n             'akcje': 8108,\n             'vice': 89,\n             'versa': 22,\n             'twojego': 3347,\n             'zgadzamy': 69,\n             'zmierzyć': 124,\n             'wynik': 904,\n             'zsumowania': 2,\n             'wszystkich': 4178,\n             'znanych': 134,\n             'rzeczy': 6430,\n             'razie': 2103,\n             'pomińmy': 7,\n             'dobrej': 620,\n             'woli': 206,\n             'rzadko': 426,\n             'równa': 194,\n             'podzielonej': 9,\n             'często': 3257,\n             'ona': 900,\n             'dość': 2837,\n             'wyższa': 631,\n             'najprościej': 52,\n             'spojrzeć': 428,\n             'odzwierciedla': 195,\n             'patrzących': 2,\n             'przyszłość': 514,\n             'szukasz': 703,\n             'spółek': 425,\n             'identycznej': 7,\n             'akcję': 1029,\n             'całkiem': 1293,\n             'zobaczysz': 506,\n             'różnią': 283,\n             'wysoki': 489,\n             'wzrost': 2320,\n             'solidna': 33,\n             'rynkiem': 302,\n             'takim': 1418,\n             'trybie': 69,\n             'wzrostu': 1536,\n             'chińscy': 16,\n             'dostawcy': 494,\n             'podawać': 50,\n             'cny': 15,\n             'typowe': 153,\n             'samym': 1779,\n             'uniknąć': 1071,\n             'ryzyka': 2602,\n             'kursowego': 5,\n             'wynikającego': 12,\n             'zmienności': 339,\n             'dolara': 907,\n             'amerykańskiego': 341,\n             'generalnie': 1106,\n             'ceni': 30,\n             'sobie': 7155,\n             'zobowiązują': 7,\n             'otrzymywania': 79,\n             'płatności': 3599,\n             'dolarach': 593,\n             'koszty': 2999,\n             'zazwyczaj': 2351,\n             'znajdują': 482,\n             'przegranym': 9,\n             'końcu': 1762,\n             'równania': 145,\n             'muszą': 2630,\n             'nieco': 1784,\n             'podnieść': 303,\n             'importerzy': 6,\n             'kanadyjscy': 11,\n             'musieli': 529,\n             'kupować': 1189,\n             'rmb': 4,\n             'zwykle': 3683,\n             'cad': 153,\n             'zamówienia': 360,\n             'eksporterzy': 15,\n             'pobierać': 442,\n             'ustalać': 43,\n             'unikając': 50,\n             'pośrednika': 179,\n             'transakcje': 1057,\n             'ryzykowne': 500,\n             'wiążą': 173,\n             'mniejszymi': 55,\n             'kosztami': 405,\n             'japonia': 148,\n             'zrobiła': 139,\n             'wiele': 9207,\n             'dekad': 97,\n             'wyceniali': 2,\n             'produkty': 1022,\n             'znaczenie': 697,\n             'transakcjach': 139,\n             'duże': 1928,\n             'kwoty': 2015,\n             'tyle': 2033,\n             'niewielkich': 95,\n             'kwotach': 42,\n             'związanych': 646,\n             'turystyką': 1,\n             'dwustronna': 5,\n             'roczna': 206,\n             'wymiana': 175,\n             'handlowa': 84,\n             'między': 3472,\n             'chinami': 44,\n             'kanadą': 37,\n             '70': 642,\n             'miliardów': 712,\n             'handel': 913,\n             'forex': 242,\n             'znacznie': 4851,\n             'przekroczyć': 140,\n             'rzeczywiste': 357,\n             'wymagane': 470,\n             'handlu': 1497,\n             'światowy': 55,\n             'przynajmniej': 2141,\n             'rząd': 2647,\n             'wielkości': 483,\n             'większy': 832,\n             'międzynarodowego': 71,\n             'cały': 2200,\n             'ten': 8978,\n             'walutami': 104,\n             'finansowymi': 166,\n             'miejsc': 1004,\n             'bay': 47,\n             'street': 370,\n             'pieniędzy': 12253,\n             'napływających': 4,\n             'ważnej': 29,\n             'części': 1880,\n             'kanadyjskiej': 44,\n             'gospodarki': 940,\n             'niedawny': 48,\n             'artykuł': 1550,\n             'liberalnej': 6,\n             'toronto': 82,\n             'star': 30,\n             'tutaj': 3524,\n             'czytam': 140,\n             'post': 417,\n             'powiedzieli': 327,\n             'część': 3628,\n             'sensu': 694,\n             'ciągle': 269,\n             'mówią': 915,\n             'dostępne': 1099,\n             'członków': 320,\n             'florida': 22,\n             'bar': 50,\n             'zatrzymaj': 83,\n             'pomyśl': 608,\n             'sądzie': 162,\n             'florydzkim': 1,\n             'federalnym': 149,\n             'adres': 380,\n             'ip': 91,\n             'administracyjny': 8,\n             'niektóre': 3152,\n             'napisali': 27,\n             'sugerują': 151,\n             'administracyjnym': 6,\n             'związanym': 100,\n             'własnością': 278,\n             'intelektualną': 26,\n             'potrzebie': 34,\n             'adwokata': 81,\n             'mógłby': 580,\n             'reprezentować': 50,\n             'sądach': 11,\n             'ds': 628,\n             'znaków': 71,\n             'towarowych': 56,\n             'brzmi': 1650,\n             'ściganie': 13,\n             'patentowe': 14,\n             'chodzi': 3356,\n             'by': 3416,\n             'uzyskać': 4361,\n             'patent': 65,\n             'własność': 410,\n             'pierwsze': 1427,\n             'fakcie': 85,\n             'jestem': 6658,\n             'zaznajomiony': 71,\n             'obszarem': 44,\n             'mogę': 3422,\n             'daleko': 520,\n             'bazy': 224,\n             'problem': 2893,\n             'polega': 1728,\n             'powinienem': 599,\n             'spekulować': 38,\n             'historia': 576,\n             'spory': 73,\n             'naruszenie': 100,\n             'ile': 4951,\n             'wiadomo': 198,\n             'toczyły': 6,\n             'tradycyjnych': 117,\n             'okręgowych': 4,\n             'potrzebujesz': 2349,\n             'specjalnego': 86,\n             'egzaminu': 59,\n             'dotyczącego': 49,\n             'znaku': 43,\n             'towarowego': 30,\n             'pozwać': 162,\n             'przeciwieństwie': 646,\n             'prokuratura': 1,\n             'patentowa': 1,\n             'uzyskuje': 67,\n             'pośrednictwem': 1059,\n             'urzędów': 18,\n             'wymaga': 1422,\n             'adwokat': 34,\n             'przystąpił': 3,\n             'uspto': 3,\n             'zostać': 2402,\n             'rzecznikiem': 7,\n             'patentowym': 9,\n             'link](http://en.wikipedia.org': 1,\n             'wiki': 827,\n             'uspto_registration_examination': 1,\n             'sądy': 95,\n             'korzystają': 288,\n             'pacer': 1,\n             'ecf': 2,\n             'cm': 10,\n             'portalu': 20,\n             'internetowego': 149,\n             'zarządzania': 733,\n             'sprawami': 74,\n             'muszę': 928,\n             'założyć': 612,\n             'systemem': 206,\n             'odnoszą': 177,\n             'https://www.pacer.gov/psco/cgi-bin/regform.pl': 1,\n             'tam': 3195,\n             'kurwa': 184,\n             'zapisać': 70,\n             'potem': 1695,\n             'zajrzeć': 91,\n             'listów': 49,\n             'całego': 560,\n             'jazzu': 3,\n             'inny': 2341,\n             'system': 1784,\n             'znam': 916,\n             'rozpoznać': 50,\n             'sposobie': 97,\n             'jaki': 3867,\n             'historię': 585,\n             'pory': 797,\n             'bs': 117,\n             'mylące': 129,\n             'błędne': 284,\n             'informacje': 1788,\n             'powinni': 906,\n             'byli': 1105,\n             'zatrudnić': 280,\n             'prawnika': 365,\n             '>': 9329,\n             'monopol': 135,\n             'wymienia': 75,\n             'gigantyczne': 32,\n             'konkurują': 95,\n             'sobą': 685,\n             'prawie': 3741,\n             'każdej': 1337,\n             'możliwej': 63,\n             'branży': 1156,\n             '/economy': 2,\n             ':(': 48,\n             'kiedyś': 861,\n             'nastawieni': 22,\n             'biznes': 1327,\n             'staje': 813,\n             'kolejną': 291,\n             'socjalistyczną': 5,\n             'komorą': 4,\n             'echa': 16,\n             'przykro': 102,\n             'widzieć': 158,\n             'stanie': 5698,\n             'zależało': 41,\n             'kultury': 110,\n             'mogliby': 444,\n             ...})"
     },
     "execution_count": 28,
     "metadata": {},
     "output_type": "execute_result"
    }
   ],
   "source": [
    "frequency_list"
   ],
   "metadata": {
    "collapsed": false,
    "ExecuteTime": {
     "end_time": "2023-10-20T17:00:03.742999200Z",
     "start_time": "2023-10-20T17:00:03.698555700Z"
    }
   },
   "id": "da7ec2ad00d6636f"
  },
  {
   "cell_type": "code",
   "execution_count": 39,
   "outputs": [],
   "source": [
    "import pandas as pd\n",
    "pd_frequency_list = pd.DataFrame(frequency_list.items(), columns=['token', 'count'])\n",
    "pd_frequency_list_filtered = pd_frequency_list[pd_frequency_list['token'].apply(lambda x: len(x)>2)]"
   ],
   "metadata": {
    "collapsed": false,
    "ExecuteTime": {
     "end_time": "2023-10-20T17:07:48.098320300Z",
     "start_time": "2023-10-20T17:07:47.965182700Z"
    }
   },
   "id": "477237b5ed5eae9b"
  },
  {
   "cell_type": "code",
   "execution_count": 40,
   "outputs": [
    {
     "data": {
      "text/plain": "((188516, 2), (187070, 2))"
     },
     "execution_count": 40,
     "metadata": {},
     "output_type": "execute_result"
    }
   ],
   "source": [
    "pd_frequency_list.shape, pd_frequency_list_filtered.shape"
   ],
   "metadata": {
    "collapsed": false,
    "ExecuteTime": {
     "end_time": "2023-10-20T17:07:56.586494200Z",
     "start_time": "2023-10-20T17:07:56.521412200Z"
    }
   },
   "id": "437a3eb91dbfdec8"
  },
  {
   "cell_type": "code",
   "execution_count": 54,
   "outputs": [
    {
     "data": {
      "text/plain": "[<matplotlib.lines.Line2D at 0x1eac323b070>]"
     },
     "execution_count": 54,
     "metadata": {},
     "output_type": "execute_result"
    },
    {
     "data": {
      "text/plain": "<Figure size 640x480 with 1 Axes>",
      "image/png": "[encoded data removed]"
     },
     "metadata": {},
     "output_type": "display_data"
    }
   ],
   "source": [
    "import matplotlib.pyplot as plt\n",
    "\n",
    "df = pd_frequency_list_filtered.sort_values(by='count', ascending=False).reset_index()\n",
    "plt.yscale('log')\n",
    "plt.xscale('log')\n",
    "plt.plot(df['count'], '.')\n"
   ],
   "metadata": {
    "collapsed": false,
    "ExecuteTime": {
     "end_time": "2023-10-20T17:15:59.118882900Z",
     "start_time": "2023-10-20T17:15:57.753983300Z"
    }
   },
   "id": "c192a6fbdec6a427"
  },
  {
   "cell_type": "code",
   "execution_count": 57,
   "outputs": [
    {
     "data": {
      "text/plain": "'Copyright © 2007–2023 Marcin Woliński, Zbigniew Bronk, Włodzimierz Gruszczyński, Witold Kieraś, Zygmunt Saloni, Danuta Skowrońska, Robert Wołosz\\r\\n\\r\\nAll rights reserved.\\r\\n\\r\\nRedistribution and use in source and binary forms, with or without\\r\\nmodification, are permitted provided that the following conditions are\\r\\nmet:\\r\\n\\r\\nRedistributions of source code must retain the above copyright notice,\\r\\nthis list of conditions and the following disclaimer.\\r\\nRedistributions in binary form must reproduce the above copyright\\r\\nnotice, this list of conditions and the following disclaimer in the\\r\\ndocumentation and/or other materials provided with the distribution.\\r\\n\\r\\nTHIS SOFTWARE IS PROVIDED BY COPYRIGHT HOLDERS “AS IS” AND ANY EXPRESS\\r\\nOR IMPLIED WARRANTIES, INCLUDING, BUT NOT LIMITED TO, THE IMPLIED\\r\\nWARRANTIES OF MERCHANTABILITY AND FITNESS FOR A PARTICULAR PURPOSE ARE\\r\\nDISCLAIMED. IN NO EVENT SHALL COPYRIGHT HOLDERS OR CONTRIBUTORS BE\\r\\nLIABLE FOR ANY DIRECT, INDIRECT, INCIDENTAL, SPECIAL, EXEMPLARY, OR\\r\\nCONSEQUENTIAL DAMAGES (INCLUDING, BUT NOT LIMITED TO, PROCUREMENT OF\\r\\nSUBSTITUTE GOODS OR SERVICES; LOSS OF USE, DATA, OR PROFITS; OR BUSINESS\\r\\nINTERRUPTION) HOWEVER CAUSED AND ON ANY THEORY OF LIABILITY, WHETHER IN\\r\\nCONTRACT, STRICT LIABILITY, OR TORT (INCLUDING NEGLIGENCE OR OTHERWISE)\\r\\nARISING IN ANY WAY OUT OF THE USE OF THIS SOFTWARE, EVEN IF ADVISED OF\\r\\nTHE POSSIBILITY OF SUCH DAMAGE.\\r\\n'"
     },
     "execution_count": 57,
     "metadata": {},
     "output_type": "execute_result"
    }
   ],
   "source": [
    "from morfeusz2 import Morfeusz\n",
    "\n",
    "morfeusz = Morfeusz()\n",
    "morfeusz.analyse() # w for jak w przykładzie i z wyniku ign oznacza czy jest w słowniku\n"
   ],
   "metadata": {
    "collapsed": false,
    "ExecuteTime": {
     "end_time": "2023-10-20T17:24:09.673283700Z",
     "start_time": "2023-10-20T17:24:09.610333100Z"
    }
   },
   "id": "13ce406f97901bd1"
  },
  {
   "cell_type": "markdown",
   "source": [
    "### Configure ElasticSearch"
   ],
   "metadata": {
    "collapsed": false
   },
   "id": "32bb34b8ea87a69f"
  },
  {
   "cell_type": "code",
   "execution_count": 173,
   "outputs": [
    {
     "data": {
      "text/plain": "ObjectApiResponse({'name': '8aa7680e5b7b', 'cluster_name': 'docker-cluster', 'cluster_uuid': 'GUnOVmh2TI6YXU9DaPLQ4g', 'version': {'number': '8.8.2', 'build_flavor': 'default', 'build_type': 'docker', 'build_hash': '98e1271edf932a480e4262a471281f1ee295ce6b', 'build_date': '2023-06-26T05:16:16.196344851Z', 'build_snapshot': False, 'lucene_version': '9.6.0', 'minimum_wire_compatibility_version': '7.17.0', 'minimum_index_compatibility_version': '7.0.0'}, 'tagline': 'You Know, for Search'})"
     },
     "execution_count": 173,
     "metadata": {},
     "output_type": "execute_result"
    }
   ],
   "source": [
    "\n",
    "\n",
    "ELASTIC_PASSWORD = 'tZSE8E-JJ+*FT07ID30Q'\n",
    "client = Elasticsearch(\n",
    "    \"https://localhost:9200\",\n",
    "    ca_certs=\"../../http_ca.crt\",\n",
    "    basic_auth=(\"elastic\", ELASTIC_PASSWORD)\n",
    ")\n",
    "\n",
    "client.info()\n"
   ],
   "metadata": {
    "collapsed": false,
    "ExecuteTime": {
     "end_time": "2023-10-13T20:39:31.709551700Z",
     "start_time": "2023-10-13T20:39:31.506479300Z"
    }
   },
   "id": "3c486901a93f15f7"
  },
  {
   "cell_type": "markdown",
   "source": [
    "### Define two ES analyzers for Polish according to requirements.\n",
    "### Define an ES index for storing the contents of the corpus from lab 1 using both analyzers. \n",
    "\n",
    "Analyzers and other settings are defined in `settings.json` file. \n",
    "Synonyms used in analyser are defined in `synonyms.txt` file \n"
   ],
   "metadata": {
    "collapsed": false
   },
   "id": "948088b0d9d7291d"
  },
  {
   "cell_type": "code",
   "execution_count": 175,
   "outputs": [],
   "source": [
    "! docker cp ./synonyms.txt es01:/usr/share/elasticsearch/config "
   ],
   "metadata": {
    "collapsed": false,
    "ExecuteTime": {
     "end_time": "2023-10-13T20:43:30.008115800Z",
     "start_time": "2023-10-13T20:43:29.735624800Z"
    }
   },
   "id": "f8857e4a16468b5b"
  },
  {
   "cell_type": "code",
   "execution_count": 176,
   "outputs": [
    {
     "data": {
      "text/plain": "ObjectApiResponse({'acknowledged': True, 'shards_acknowledged': True, 'index': 'months_index'})"
     },
     "execution_count": 176,
     "metadata": {},
     "output_type": "execute_result"
    }
   ],
   "source": [
    "INDEX_NAME = \"months_index\"\n",
    "settings = json.load(open('./settings.json', 'r'))\n",
    "client.indices.delete(index=INDEX_NAME)\n",
    "client.indices.create(index=INDEX_NAME, settings=settings)"
   ],
   "metadata": {
    "collapsed": false,
    "ExecuteTime": {
     "end_time": "2023-10-13T20:43:32.939440600Z",
     "start_time": "2023-10-13T20:43:32.505905700Z"
    }
   },
   "id": "4200e3d26583aa9a"
  },
  {
   "cell_type": "markdown",
   "source": [
    "### Load the data to the ES index."
   ],
   "metadata": {
    "collapsed": false
   },
   "id": "84172d83ff6d9e31"
  },
  {
   "cell_type": "code",
   "execution_count": 177,
   "outputs": [
    {
     "data": {
      "text/plain": "  0%|          | 0/577 [00:00<?, ?it/s]",
      "application/vnd.jupyter.widget-view+json": {
       "version_major": 2,
       "version_minor": 0,
       "model_id": "d33ca2c4d3144b2ab3279aa1c6b4bbbd"
      }
     },
     "metadata": {},
     "output_type": "display_data"
    }
   ],
   "source": [
    "body = list(itertools.chain(*pd_dataset.apply(lambda x: ({'index': {'_id': x._id}}, {'title': x.title, 'text': x.text}) , axis=1)))\n",
    "chunk_size = 200\n",
    "for chunk in tqdm([body[i:i + chunk_size] for i in range(0, len(body), chunk_size)]):\n",
    "    client.bulk(\n",
    "        index=INDEX_NAME,\n",
    "        body=chunk\n",
    "    )"
   ],
   "metadata": {
    "collapsed": false,
    "ExecuteTime": {
     "end_time": "2023-10-13T20:43:52.297900700Z",
     "start_time": "2023-10-13T20:43:32.945451Z"
    }
   },
   "id": "fce1c910bf4b7342"
  },
  {
   "cell_type": "markdown",
   "source": [
    "### Determine the number of documents containing the word styczeń (in any form) including and excluding the synonyms."
   ],
   "metadata": {
    "collapsed": false
   },
   "id": "70e894a332fbd591"
  },
  {
   "cell_type": "code",
   "execution_count": 189,
   "outputs": [],
   "source": [
    "c1 = client.count(index=INDEX_NAME,  analyzer='analyzer_with_synonym', q='text:styczeń')['count']\n",
    "c2 = client.count(index=INDEX_NAME,  analyzer='analyzer_without_synonym', q='text:styczeń')['count']"
   ],
   "metadata": {
    "collapsed": false,
    "ExecuteTime": {
     "end_time": "2023-10-13T20:50:04.864003600Z",
     "start_time": "2023-10-13T20:50:04.824546400Z"
    }
   },
   "id": "2a2f4014623c1e24"
  },
  {
   "cell_type": "code",
   "execution_count": 190,
   "outputs": [
    {
     "name": "stdout",
     "output_type": "stream",
     "text": [
      "\n",
      "    Styczeń matches with synonyms:       44123\n",
      "    Styczeń matches withotu synonyms:    29\n"
     ]
    }
   ],
   "source": [
    "print(f\"\"\"\n",
    "    Styczeń matches with synonyms:       {c1}\n",
    "    Styczeń matches withotu synonyms:    {c2}\"\"\")"
   ],
   "metadata": {
    "collapsed": false,
    "ExecuteTime": {
     "end_time": "2023-10-13T20:50:05.094615700Z",
     "start_time": "2023-10-13T20:50:05.074205700Z"
    }
   },
   "id": "709ed2c232301426"
  },
  {
   "cell_type": "markdown",
   "source": [
    "Synonyms for Styczeń contains also \"I\" which is \"and\" word in Polish, so count of matches with synonyms is inadequate."
   ],
   "metadata": {
    "collapsed": false
   },
   "id": "b6206e1f86c51a8d"
  },
  {
   "cell_type": "code",
   "execution_count": 191,
   "outputs": [],
   "source": [
    "c1 = client.count(index=INDEX_NAME,  analyzer='analyzer_with_synonym', q='text:sierpień')['count']\n",
    "c2 = client.count(index=INDEX_NAME,  analyzer='analyzer_without_synonym', q='text:sierpień')['count']"
   ],
   "metadata": {
    "collapsed": false,
    "ExecuteTime": {
     "end_time": "2023-10-13T20:50:06.744143200Z",
     "start_time": "2023-10-13T20:50:06.714390100Z"
    }
   },
   "id": "bd04fd2ba86b02b6"
  },
  {
   "cell_type": "code",
   "execution_count": 192,
   "outputs": [
    {
     "name": "stdout",
     "output_type": "stream",
     "text": [
      "\n",
      "    Sierpień matches with synonyms:       50\n",
      "    Sierpień matches withotu synonyms:    22\n"
     ]
    }
   ],
   "source": [
    "print(f\"\"\"\n",
    "    Sierpień matches with synonyms:       {c1}\n",
    "    Sierpień matches withotu synonyms:    {c2}\"\"\")"
   ],
   "metadata": {
    "collapsed": false,
    "ExecuteTime": {
     "end_time": "2023-10-13T20:50:07.214445200Z",
     "start_time": "2023-10-13T20:50:07.211424800Z"
    }
   },
   "id": "ec22bd4a9cb9bbf2"
  },
  {
   "cell_type": "markdown",
   "source": [
    "Number of Sierpień occurences are more accurate and realistic.  "
   ],
   "metadata": {
    "collapsed": false
   },
   "id": "86e7300d8534bfcb"
  },
  {
   "cell_type": "markdown",
   "source": [
    "### Download the QA pairs for the FIQA dataset. (what should be done here?, how to get started with that ds?)\n"
   ],
   "metadata": {
    "collapsed": false
   },
   "id": "b0249b8d3cb0cb6e"
  },
  {
   "cell_type": "code",
   "execution_count": 209,
   "outputs": [],
   "source": [
    "QA_dataset = load_dataset(\"clarin-knext/fiqa-pl-qrels\", 'corpus')\n"
   ],
   "metadata": {
    "collapsed": false,
    "ExecuteTime": {
     "end_time": "2023-10-13T21:10:19.066674100Z",
     "start_time": "2023-10-13T21:10:15.800200100Z"
    }
   },
   "id": "f7b2bd044a9b3f4f"
  },
  {
   "cell_type": "code",
   "execution_count": 210,
   "outputs": [
    {
     "data": {
      "text/plain": "Dataset({\n    features: ['query-id', 'corpus-id', 'score'],\n    num_rows: 14166\n})"
     },
     "execution_count": 210,
     "metadata": {},
     "output_type": "execute_result"
    }
   ],
   "source": [
    "QA_dataset['train']"
   ],
   "metadata": {
    "collapsed": false,
    "ExecuteTime": {
     "end_time": "2023-10-13T21:10:19.790118500Z",
     "start_time": "2023-10-13T21:10:19.769804Z"
    }
   },
   "id": "e2723c1e1fc04a73"
  },
  {
   "cell_type": "markdown",
   "source": [
    "1. What are the strengths and weaknesses of regular expressions versus full text search regarding processing of text?\n",
    "Regular expressions are simpler, easier to configure and for easy patterns are fast, but it is hard to create expression that covers every form. ElasticSearch needs to be configured, indexes need to be defined and data is required to be stored in ES, but it supports tokenization, lematization, and has many build-in filters. Searching and counting is very fast thanks to database system and indexes. \n",
    "2. Is full text search applicable to the question answering problem? Show at least 3 examples from the corpus to support your claim."
   ],
   "metadata": {
    "collapsed": false
   },
   "id": "7919a0a86dbff337"
  },
  {
   "cell_type": "code",
   "execution_count": null,
   "outputs": [],
   "source": [],
   "metadata": {
    "collapsed": false
   },
   "id": "5ea422b4d0c18224"
  }
 ],
 "metadata": {
  "kernelspec": {
   "display_name": "Python 3",
   "language": "python",
   "name": "python3"
  },
  "language_info": {
   "codemirror_mode": {
    "name": "ipython",
    "version": 2
   },
   "file_extension": ".py",
   "mimetype": "text/x-python",
   "name": "python",
   "nbconvert_exporter": "python",
   "pygments_lexer": "ipython2",
   "version": "2.7.6"
  }
 },
 "nbformat": 4,
 "nbformat_minor": 5
}
